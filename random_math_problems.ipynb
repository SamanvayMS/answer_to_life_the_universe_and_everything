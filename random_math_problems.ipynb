{
  "nbformat": 4,
  "nbformat_minor": 0,
  "metadata": {
    "colab": {
      "provenance": []
    },
    "kernelspec": {
      "name": "python3",
      "display_name": "Python 3"
    },
    "language_info": {
      "name": "python"
    }
  },
  "cells": [
    {
      "cell_type": "markdown",
      "source": [
        "##Collatz Conjecture"
      ],
      "metadata": {
        "id": "STiucMd8VvFS"
      }
    },
    {
      "cell_type": "code",
      "execution_count": 1,
      "metadata": {
        "id": "638sZq5nE3n9"
      },
      "outputs": [],
      "source": [
        "import random\n",
        "import matplotlib.pyplot as plt\n",
        "import numpy as np"
      ]
    },
    {
      "cell_type": "code",
      "source": [
        "\n",
        "n=100\n",
        "for i in range(1,n+1):\n",
        "  m=i\n",
        "  steps=[1]\n",
        "  step=1\n",
        "  x=[i]\n",
        "  while i!=1:\n",
        "    step=step+1\n",
        "    steps.append(step)\n",
        "    if i%2==0:\n",
        "      i=i/2\n",
        "    else:\n",
        "      i=3*i+1\n",
        "    x.append(i)\n",
        "  r= random.uniform(0,1)\n",
        "  g= random.uniform(0,1)\n",
        "  b= random.uniform(0,1)\n",
        "  color=(r,g,b,1)\n",
        "  plt.plot(steps,x,linewidth=1,color=color,label=m)\n",
        "  plt.legend(loc=\"upper left\")\n",
        "plt.rcParams['figure.figsize'] = [20, 15]\n",
        "plt.show()"
      ],
      "metadata": {
        "id": "3X7OGsPaE8Mn"
      },
      "execution_count": null,
      "outputs": []
    },
    {
      "cell_type": "markdown",
      "source": [
        "#Pi with monte carlo"
      ],
      "metadata": {
        "id": "anFteimhXGXS"
      }
    },
    {
      "cell_type": "code",
      "source": [
        "import random\n",
        "\n",
        "A=0\n",
        "n=100000000\n",
        "for i in range(1,n+1):\n",
        "  x=random.uniform(0,1)\n",
        "  y=random.uniform(0,1)\n",
        "  if 1>(x**2)+(y**2):\n",
        "    A=A+1\n",
        "pi=4*(A/n)\n",
        "print(\"value of pi for\",n,\"iterations is\",pi )"
      ],
      "metadata": {
        "colab": {
          "base_uri": "https://localhost:8080/"
        },
        "id": "SCOPch4HXS1Y",
        "outputId": "8d0c9f07-b9fd-48a5-86ef-13a1ba33d1db"
      },
      "execution_count": null,
      "outputs": [
        {
          "output_type": "stream",
          "name": "stdout",
          "text": [
            "value of pi for 100000000 iterations is 3.14182704\n"
          ]
        }
      ]
    },
    {
      "cell_type": "markdown",
      "source": [
        "#Shanks reciprocal of primes\n",
        "\n",
        "computes number of recurring digits in the reciprocal of given prime "
      ],
      "metadata": {
        "id": "6h3ViG2NXqta"
      }
    },
    {
      "cell_type": "code",
      "source": [
        "n=int(input(\"enter a prime number \"))\n",
        "no_of_digits=1\n",
        "rem=(10%n)\n",
        "first_rem=rem\n",
        "while(1):\n",
        "  rem=(rem*10)%n\n",
        "  if rem==first_rem:\n",
        "    break\n",
        "  no_of_digits+=1\n",
        "print(no_of_digits)\n"
      ],
      "metadata": {
        "colab": {
          "base_uri": "https://localhost:8080/"
        },
        "id": "FasjNjFIXxEJ",
        "outputId": "f4cd5e32-c0dc-4df5-e994-cfe10a0a412d"
      },
      "execution_count": null,
      "outputs": [
        {
          "output_type": "stream",
          "name": "stdout",
          "text": [
            "enter a prime number 65001\n",
            "460\n"
          ]
        }
      ]
    },
    {
      "cell_type": "markdown",
      "source": [
        "#Program to compute prime numbers\n",
        "divide the number by the lowest prime every time to reduce computation and add to the prime array when a prime number is found."
      ],
      "metadata": {
        "id": "97p2y1MYbXZs"
      }
    },
    {
      "cell_type": "code",
      "source": [
        "import numpy as np\n",
        "import matplotlib.pyplot as plt\n",
        "prime_numbers=np.array([2])\n",
        "def is_prime(n):\n",
        "  max=n\n",
        "  for i in prime_numbers:\n",
        "    if i<=max:\n",
        "      if n%i==0:\n",
        "        return False\n",
        "      max=int(n/i)\n",
        "  return True\n",
        "\n",
        "n=int(input(\"max value upto which you require primes (greater than 2)\"))\n",
        "for i in range(3,n+1):\n",
        "  if is_prime(i):\n",
        "    prime_numbers=np.append(prime_numbers,i)\n",
        "print(\"number of primes till\",n,\"is\",len(prime_numbers))\n",
        "#for i in prime_numbers:\n",
        "  #print (i)\n",
        "\n",
        "\n",
        "\n",
        "\n",
        "\n"
      ],
      "metadata": {
        "colab": {
          "base_uri": "https://localhost:8080/",
          "height": 368
        },
        "id": "mpCvGoywbdDS",
        "outputId": "2c294087-a14c-4598-8496-33428d32294e"
      },
      "execution_count": null,
      "outputs": [
        {
          "name": "stdout",
          "output_type": "stream",
          "text": [
            "max value upto which you require primes (greater than 2)1000000\n"
          ]
        },
        {
          "output_type": "error",
          "ename": "KeyboardInterrupt",
          "evalue": "ignored",
          "traceback": [
            "\u001b[0;31m---------------------------------------------------------------------------\u001b[0m",
            "\u001b[0;31mKeyboardInterrupt\u001b[0m                         Traceback (most recent call last)",
            "\u001b[0;32m<ipython-input-3-c2b8e1c10cf5>\u001b[0m in \u001b[0;36m<module>\u001b[0;34m\u001b[0m\n\u001b[1;32m     13\u001b[0m \u001b[0mn\u001b[0m\u001b[0;34m=\u001b[0m\u001b[0mint\u001b[0m\u001b[0;34m(\u001b[0m\u001b[0minput\u001b[0m\u001b[0;34m(\u001b[0m\u001b[0;34m\"max value upto which you require primes (greater than 2)\"\u001b[0m\u001b[0;34m)\u001b[0m\u001b[0;34m)\u001b[0m\u001b[0;34m\u001b[0m\u001b[0;34m\u001b[0m\u001b[0m\n\u001b[1;32m     14\u001b[0m \u001b[0;32mfor\u001b[0m \u001b[0mi\u001b[0m \u001b[0;32min\u001b[0m \u001b[0mrange\u001b[0m\u001b[0;34m(\u001b[0m\u001b[0;36m3\u001b[0m\u001b[0;34m,\u001b[0m\u001b[0mn\u001b[0m\u001b[0;34m+\u001b[0m\u001b[0;36m1\u001b[0m\u001b[0;34m)\u001b[0m\u001b[0;34m:\u001b[0m\u001b[0;34m\u001b[0m\u001b[0;34m\u001b[0m\u001b[0m\n\u001b[0;32m---> 15\u001b[0;31m   \u001b[0;32mif\u001b[0m \u001b[0mis_prime\u001b[0m\u001b[0;34m(\u001b[0m\u001b[0mi\u001b[0m\u001b[0;34m)\u001b[0m\u001b[0;34m:\u001b[0m\u001b[0;34m\u001b[0m\u001b[0;34m\u001b[0m\u001b[0m\n\u001b[0m\u001b[1;32m     16\u001b[0m     \u001b[0mprime_numbers\u001b[0m\u001b[0;34m=\u001b[0m\u001b[0mnp\u001b[0m\u001b[0;34m.\u001b[0m\u001b[0mappend\u001b[0m\u001b[0;34m(\u001b[0m\u001b[0mprime_numbers\u001b[0m\u001b[0;34m,\u001b[0m\u001b[0mi\u001b[0m\u001b[0;34m)\u001b[0m\u001b[0;34m\u001b[0m\u001b[0;34m\u001b[0m\u001b[0m\n\u001b[1;32m     17\u001b[0m \u001b[0mprint\u001b[0m\u001b[0;34m(\u001b[0m\u001b[0;34m\"number of primes till\"\u001b[0m\u001b[0;34m,\u001b[0m\u001b[0mn\u001b[0m\u001b[0;34m,\u001b[0m\u001b[0;34m\"is\"\u001b[0m\u001b[0;34m,\u001b[0m\u001b[0mlen\u001b[0m\u001b[0;34m(\u001b[0m\u001b[0mprime_numbers\u001b[0m\u001b[0;34m)\u001b[0m\u001b[0;34m)\u001b[0m\u001b[0;34m\u001b[0m\u001b[0;34m\u001b[0m\u001b[0m\n",
            "\u001b[0;32m<ipython-input-3-c2b8e1c10cf5>\u001b[0m in \u001b[0;36mis_prime\u001b[0;34m(n)\u001b[0m\n\u001b[1;32m      5\u001b[0m   \u001b[0mmax\u001b[0m\u001b[0;34m=\u001b[0m\u001b[0mn\u001b[0m\u001b[0;34m\u001b[0m\u001b[0;34m\u001b[0m\u001b[0m\n\u001b[1;32m      6\u001b[0m   \u001b[0;32mfor\u001b[0m \u001b[0mi\u001b[0m \u001b[0;32min\u001b[0m \u001b[0mprime_numbers\u001b[0m\u001b[0;34m:\u001b[0m\u001b[0;34m\u001b[0m\u001b[0;34m\u001b[0m\u001b[0m\n\u001b[0;32m----> 7\u001b[0;31m     \u001b[0;32mif\u001b[0m \u001b[0mi\u001b[0m\u001b[0;34m<=\u001b[0m\u001b[0mmax\u001b[0m\u001b[0;34m:\u001b[0m\u001b[0;34m\u001b[0m\u001b[0;34m\u001b[0m\u001b[0m\n\u001b[0m\u001b[1;32m      8\u001b[0m       \u001b[0;32mif\u001b[0m \u001b[0mn\u001b[0m\u001b[0;34m%\u001b[0m\u001b[0mi\u001b[0m\u001b[0;34m==\u001b[0m\u001b[0;36m0\u001b[0m\u001b[0;34m:\u001b[0m\u001b[0;34m\u001b[0m\u001b[0;34m\u001b[0m\u001b[0m\n\u001b[1;32m      9\u001b[0m         \u001b[0;32mreturn\u001b[0m \u001b[0;32mFalse\u001b[0m\u001b[0;34m\u001b[0m\u001b[0;34m\u001b[0m\u001b[0m\n",
            "\u001b[0;31mKeyboardInterrupt\u001b[0m: "
          ]
        }
      ]
    }
  ]
}